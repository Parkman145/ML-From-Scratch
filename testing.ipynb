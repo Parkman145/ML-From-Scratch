{
 "cells": [
  {
   "cell_type": "code",
   "execution_count": null,
   "id": "820dc440",
   "metadata": {},
   "outputs": [],
   "source": [
    "import tensorflow as tf\n",
    "from math import pi\n",
    "import numpy as np\n",
    "import matplotlib.pyplot as plt"
   ]
  },
  {
   "cell_type": "code",
   "execution_count": null,
   "id": "6ebd9137",
   "metadata": {},
   "outputs": [],
   "source": [
    "im = np.array([\n",
    "    \n",
    "    [0, 0.5, 0.5, 0],\n",
    "    [0.5, 1, 1, 0.5],\n",
    "    [0.5, 1, 1, 0.5],\n",
    "    [0, 0.5, 0.5, 0]\n",
    "])\n",
    "\n",
    "\n",
    "\n",
    "flattened = im.flatten()\n",
    "\n",
    "in_dims = flattened.shape[0]\n",
    "out_dims = 10\n",
    "\n",
    "weights = np.random.rand(in_dims*out_dims).reshape((in_dims, out_dims))\n",
    "\n",
    "print(weights.shape)\n",
    "\n",
    "plt.imshow(im, cmap=\"grey\")\n",
    "\n",
    "\n",
    "\n",
    "np.dot(flattened, weights)"
   ]
  },
  {
   "cell_type": "code",
   "execution_count": null,
   "id": "e3f005a0",
   "metadata": {},
   "outputs": [],
   "source": [
    "data = np.zeros((10, 4))\n",
    "\n",
    "layer = tf.keras.layers.Dense(10)\n",
    "\n",
    "layer(data).shape"
   ]
  },
  {
   "cell_type": "code",
   "execution_count": null,
   "id": "ccce8ec1",
   "metadata": {},
   "outputs": [],
   "source": [
    "data = np.zeros((10, 4))\n",
    "\n",
    "in_features = data.shape[1]\n",
    "out_features = 5\n",
    "\n",
    "\n",
    "weights = np.random.rand(in_features * out_features).reshape(in_features, out_features)\n",
    "\n",
    "predictions = np.dot(data, weights)\n",
    "print(predictions.shape)\n"
   ]
  },
  {
   "cell_type": "code",
   "execution_count": null,
   "id": "58e6fc79",
   "metadata": {},
   "outputs": [],
   "source": [
    "data = np.zeros((10, 4))\n",
    "\n",
    "in_features = data.shape[1]\n",
    "out_features = 5\n",
    "\n",
    "\n",
    "weights = np.random.rand(in_features * out_features).reshape(in_features, out_features)\n",
    "\n",
    "predictions = np.dot(data, weights)\n",
    "print(predictions.shape)\n"
   ]
  },
  {
   "cell_type": "code",
   "execution_count": null,
   "id": "7d99ba5f",
   "metadata": {},
   "outputs": [],
   "source": [
    "# Non batch\n",
    "data = np.zeros((4))\n",
    "\n",
    "in_features = data.shape[0]\n",
    "out_features = 5\n",
    "\n",
    "\n",
    "weights = np.random.rand(in_features * out_features).reshape(in_features, out_features)\n",
    "print(weights)\n",
    "predictions = np.dot(data, weights)\n",
    "print(predictions.shape)\n"
   ]
  },
  {
   "cell_type": "code",
   "execution_count": null,
   "id": "98d2a40a",
   "metadata": {},
   "outputs": [],
   "source": [
    "x = tf.Variable([0.0, pi/2, pi])\n",
    "with tf.GradientTape() as g:\n",
    "  g.watch(x)\n",
    "  y = tf.sin(x)\n",
    "dy_dx = g.gradient(y, x)\n",
    "print(dy_dx)"
   ]
  },
  {
   "cell_type": "code",
   "execution_count": null,
   "id": "aeb6e2de",
   "metadata": {},
   "outputs": [],
   "source": [
    "import tensorflow as tf\n",
    "import matplotlib.pyplot as plt\n",
    "from time import sleep\n",
    "\n",
    "def mean_squared_error(x, y):\n",
    "    return tf.reduce_mean(x**2 - y**2)\n",
    "\n",
    "g1 = tf.random.Generator.from_seed(1)\n",
    "im = tf.constant([[0.0, 1.0, 0.0],\n",
    "                  [1.0, 4.0, 1.0],\n",
    "                  [0.0, 1.0, 0.0]])\n",
    "x_start = g1.normal(shape=im.shape)\n",
    "x = x_start\n",
    "\n",
    "rate = -0.1\n",
    "steps = 10\n",
    "history = []\n",
    "for i in range(steps):\n",
    "    with tf.GradientTape() as g:\n",
    "        g.watch(x)\n",
    "        y = (x-im)**2\n",
    "    dy_dx = g.gradient(y, x)\n",
    "    x = x + dy_dx * rate\n",
    "    history.append(x)\n",
    "\n",
    "\n",
    "fig, ax = plt.subplots(1, steps+2)\n",
    "ax[0].imshow(im)\n",
    "ax[1].imshow(x_start)\n",
    "for i, step in enumerate(history):\n",
    "    ax[i+2].imshow(step)\n",
    "\n",
    "\n",
    "#     with tf.GradientTape() as g:\n",
    "#         g.watch(x)\n",
    "#         y = func(x)\n",
    "#     dy_dx = g.gradient(y, x)"
   ]
  },
  {
   "cell_type": "code",
   "execution_count": 16,
   "id": "a707babf",
   "metadata": {},
   "outputs": [
    {
     "data": {
      "image/png": "[encoded data removed]",
      "text/plain": [
       "<Figure size 640x480 with 7 Axes>"
      ]
     },
     "metadata": {},
     "output_type": "display_data"
    }
   ],
   "source": [
    "import tensorflow as tf\n",
    "import matplotlib.pyplot as plt\n",
    "from time import sleep\n",
    "\n",
    "def mean_squared_error(x, y):\n",
    "    return tf.reduce_mean((x - y)**2)\n",
    "\n",
    "g1 = tf.random.Generator.from_seed(1)\n",
    "im = tf.constant([[0.0, 1.0, 0.0],\n",
    "                  [1.0, 4.0, 1.0],\n",
    "                  [0.0, 1.0, 0.0]])\n",
    "estimation_start = g1.normal(shape=im.shape)\n",
    "estimation = estimation_start\n",
    "\n",
    "rate = .1\n",
    "steps = 100\n",
    "history = []\n",
    "for i in range(steps):\n",
    "    with tf.GradientTape() as g:\n",
    "        g.watch(estimation)\n",
    "        y = mean_squared_error(im, estimation)\n",
    "    gradient = g.gradient(y, estimation)\n",
    "    estimation = estimation - gradient * rate\n",
    "    if i % (steps/5) == 0:\n",
    "        history.append(estimation)\n",
    "\n",
    "\n",
    "fig, ax = plt.subplots(1, 2 + len(history))\n",
    "ax[0].imshow(im)\n",
    "ax[1].imshow(estimation_start)\n",
    "for i, step in enumerate(history):\n",
    "    ax[i+2].imshow(step)"
   ]
  },
  {
   "cell_type": "code",
   "execution_count": null,
   "id": "06a22cdd",
   "metadata": {},
   "outputs": [],
   "source": [
    "import tensorflow as tf\n",
    "import matplotlib.pyplot as plt\n",
    "from time import sleep\n",
    "\n",
    "def mean_squared_error(x, y):\n",
    "    return tf.reduce_mean((x - y)**2)\n",
    "\n",
    "g1 = tf.random.Generator.from_seed(1)\n",
    "im = tf.constant([[0.0, 1.0, 0.0],\n",
    "                  [1.0, 4.0, 1.0],\n",
    "                  [0.0, 1.0, 0.0]])\n",
    "estimation_start = g1.normal(shape=im.shape)\n",
    "estimation = estimation_start\n",
    "\n",
    "rate = .1\n",
    "steps = 100\n",
    "history = []\n",
    "for i in range(steps):\n",
    "    with tf.GradientTape() as g:\n",
    "        g.watch(estimation)\n",
    "        y = mean_squared_error(im, estimation)\n",
    "    gradient = g.gradient(y, estimation)\n",
    "    estimation = estimation - gradient * rate\n",
    "    if i % (steps/5) == 0:\n",
    "        history.append(estimation)\n",
    "\n",
    "\n",
    "fig, ax = plt.subplots(1, 2 + len(history))\n",
    "ax[0].imshow(im)\n",
    "ax[1].imshow(estimation_start)\n",
    "for i, step in enumerate(history):\n",
    "    ax[i+2].imshow(step)"
   ]
  }
 ],
 "metadata": {
  "kernelspec": {
   "display_name": "Python 3",
   "language": "python",
   "name": "python3"
  },
  "language_info": {
   "codemirror_mode": {
    "name": "ipython",
    "version": 3
   },
   "file_extension": ".py",
   "mimetype": "text/x-python",
   "name": "python",
   "nbconvert_exporter": "python",
   "pygments_lexer": "ipython3",
   "version": "3.13.8"
  }
 },
 "nbformat": 4,
 "nbformat_minor": 5
}
